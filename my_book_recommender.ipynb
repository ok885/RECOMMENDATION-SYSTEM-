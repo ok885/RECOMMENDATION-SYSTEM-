{
 "cells": [
  {
   "cell_type": "markdown",
   "id": "05e111d9",
   "metadata": {},
   "source": [
    "# My Book Recommender System (Beginner Friendly)"
   ]
  },
  {
   "cell_type": "code",
   "execution_count": null,
   "id": "ec7ae91e",
   "metadata": {},
   "outputs": [],
   "source": [
    "import pandas as pd\n",
    "import numpy as np\n",
    "from sklearn.metrics.pairwise import cosine_similarity\n",
    "import pickle"
   ]
  },
  {
   "cell_type": "code",
   "execution_count": null,
   "id": "2a40d280",
   "metadata": {},
   "outputs": [],
   "source": [
    "# Load the datasets\n",
    "books = pd.read_csv('Books.csv')\n",
    "ratings = pd.read_csv('Ratings.csv')\n",
    "users = pd.read_csv('Users.csv')"
   ]
  },
  {
   "cell_type": "code",
   "execution_count": null,
   "id": "990689b5",
   "metadata": {},
   "outputs": [],
   "source": [
    "# Filter out zero ratings\n",
    "ratings = ratings[ratings['Book-Rating'] > 0]\n",
    "\n",
    "# Only include books rated by more than 50 users\n",
    "popular_books = ratings['ISBN'].value_counts() > 50\n",
    "ratings = ratings[ratings['ISBN'].isin(popular_books[popular_books].index)]"
   ]
  },
  {
   "cell_type": "code",
   "execution_count": null,
   "id": "c08cf78a",
   "metadata": {},
   "outputs": [],
   "source": [
    "# Create pivot table\n",
    "pivot_table = ratings.pivot_table(index='ISBN', columns='User-ID', values='Book-Rating').fillna(0)"
   ]
  },
  {
   "cell_type": "code",
   "execution_count": null,
   "id": "cf6caecf",
   "metadata": {},
   "outputs": [],
   "source": [
    "# Calculate cosine similarity\n",
    "similarity_matrix = cosine_similarity(pivot_table)"
   ]
  },
  {
   "cell_type": "code",
   "execution_count": null,
   "id": "d86be2c9",
   "metadata": {},
   "outputs": [],
   "source": [
    "# Map ISBNs to Book Titles\n",
    "isbn_to_title = books.set_index('ISBN')['Book-Title'].to_dict()\n",
    "pivot_table.index = pivot_table.index.map(isbn_to_title)"
   ]
  },
  {
   "cell_type": "code",
   "execution_count": null,
   "id": "0f542f76",
   "metadata": {},
   "outputs": [],
   "source": [
    "# Prepare popular books dataframe\n",
    "top_rated = ratings.groupby('ISBN').agg({'Book-Rating': ['count', 'mean']})\n",
    "top_rated.columns = ['rating_count', 'avg_rating']\n",
    "top_rated = top_rated.sort_values(by='rating_count', ascending=False).head(50)\n",
    "book_info = books.drop_duplicates('ISBN').set_index('ISBN')\n",
    "top_rated = top_rated.join(book_info, how='left')\n",
    "top_rated = top_rated[['Book-Title', 'Book-Author', 'Image-URL-M', 'rating_count', 'avg_rating']]"
   ]
  },
  {
   "cell_type": "code",
   "execution_count": null,
   "id": "cfb35a5f",
   "metadata": {},
   "outputs": [],
   "source": [
    "# Save required files\n",
    "pickle.dump(top_rated, open('popular_books.pkl', 'wb'))\n",
    "pickle.dump(pivot_table, open('pivot_table.pkl', 'wb'))\n",
    "pickle.dump(books, open('book_info.pkl', 'wb'))\n",
    "pickle.dump(similarity_matrix, open('similarity_matrix.pkl', 'wb'))\n",
    "\n",
    "print(\"✅ All files saved. You can now run the Flask app.\")"
   ]
  }
 ],
 "metadata": {},
 "nbformat": 4,
 "nbformat_minor": 5
}
