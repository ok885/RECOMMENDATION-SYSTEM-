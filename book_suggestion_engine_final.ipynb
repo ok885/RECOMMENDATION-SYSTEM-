{
 "cells": [
  {
   "cell_type": "code",
   "execution_count": null,
   "id": "303b2dc6",
   "metadata": {},
   "outputs": [],
   "source": [
    "import numpy as np\n",
    "import pandas as pd"
   ]
  },
  {
   "cell_type": "code",
   "execution_count": null,
   "id": "9369d4ed",
   "metadata": {},
   "outputs": [],
   "source": [
    "book_info_merged_data = pd.read_csv('book_info_merged_data.csv')\n",
    "user_profiles_merged_data = pd.read_csv('user_profiles_merged_data.csv')\n",
    "user_ratings_merged_data = pd.read_csv('user_ratings_merged_data.csv')"
   ]
  },
  {
   "cell_type": "code",
   "execution_count": null,
   "id": "366cd401",
   "metadata": {},
   "outputs": [],
   "source": [
    "book_info_merged_data['Image-URL-M'][1]"
   ]
  },
  {
   "cell_type": "code",
   "execution_count": null,
   "id": "46b2573d",
   "metadata": {},
   "outputs": [],
   "source": [
    "user_profiles_merged_data.head()"
   ]
  },
  {
   "cell_type": "code",
   "execution_count": null,
   "id": "ba373004",
   "metadata": {},
   "outputs": [],
   "source": [
    "user_ratings_merged_data.head()"
   ]
  },
  {
   "cell_type": "code",
   "execution_count": null,
   "id": "ad476f55",
   "metadata": {},
   "outputs": [],
   "source": [
    "print(book_info_merged_data.shape)\n",
    "print(user_ratings_merged_data.shape)\n",
    "print(user_profiles_merged_data.shape)"
   ]
  },
  {
   "cell_type": "code",
   "execution_count": null,
   "id": "775a0449",
   "metadata": {},
   "outputs": [],
   "source": [
    "book_info_merged_data.isnull().sum()"
   ]
  },
  {
   "cell_type": "code",
   "execution_count": null,
   "id": "0a4982ba",
   "metadata": {},
   "outputs": [],
   "source": [
    "user_profiles_merged_data.isnull().sum()"
   ]
  },
  {
   "cell_type": "code",
   "execution_count": null,
   "id": "9025e795",
   "metadata": {},
   "outputs": [],
   "source": [
    "user_ratings_merged_data.isnull().sum()"
   ]
  },
  {
   "cell_type": "code",
   "execution_count": null,
   "id": "1de6cea1",
   "metadata": {},
   "outputs": [],
   "source": [
    "book_info_merged_data.duplicated().sum()"
   ]
  },
  {
   "cell_type": "code",
   "execution_count": null,
   "id": "6f377f96",
   "metadata": {},
   "outputs": [],
   "source": [
    "user_ratings_merged_data.duplicated().sum()"
   ]
  },
  {
   "cell_type": "code",
   "execution_count": null,
   "id": "01313359",
   "metadata": {},
   "outputs": [],
   "source": [
    "user_profiles_merged_data.duplicated().sum()"
   ]
  },
  {
   "cell_type": "markdown",
   "id": "32b75980",
   "metadata": {},
   "source": [
    "## Popularity Based Recommender System"
   ]
  },
  {
   "cell_type": "code",
   "execution_count": null,
   "id": "ae93fcb9",
   "metadata": {},
   "outputs": [],
   "source": [
    "user_ratings_merged_data_with_name = user_ratings_merged_data.merge(book_info_merged_data,on='ISBN')"
   ]
  },
  {
   "cell_type": "code",
   "execution_count": null,
   "id": "2587e84f",
   "metadata": {},
   "outputs": [],
   "source": [
    "num_rating_merged_data = user_ratings_merged_data_with_name.groupby('Book-Title').count()['Book-Rating'].reset_index()\n",
    "num_rating_merged_data.rename(columns={'Book-Rating':'num_user_ratings_merged_data'},inplace=True)\n",
    "num_rating_merged_data"
   ]
  },
  {
   "cell_type": "code",
   "execution_count": null,
   "id": "6b28db9f",
   "metadata": {},
   "outputs": [],
   "source": [
    "avg_rating_merged_data = user_ratings_merged_data_with_name.groupby('Book-Title').mean()['Book-Rating'].reset_index()\n",
    "avg_rating_merged_data.rename(columns={'Book-Rating':'avg_rating'},inplace=True)\n",
    "avg_rating_merged_data"
   ]
  },
  {
   "cell_type": "code",
   "execution_count": null,
   "id": "9705e80d",
   "metadata": {},
   "outputs": [],
   "source": [
    "popular_merged_data = num_rating_merged_data.merge(avg_rating_merged_data,on='Book-Title')\n",
    "popular_merged_data"
   ]
  },
  {
   "cell_type": "code",
   "execution_count": null,
   "id": "1a2fd197",
   "metadata": {},
   "outputs": [],
   "source": [
    "popular_merged_data = popular_merged_data[popular_merged_data['num_user_ratings_merged_data']>=250].sort_values('avg_rating',ascending=False).head(50)"
   ]
  },
  {
   "cell_type": "code",
   "execution_count": null,
   "id": "5bbc1cc8",
   "metadata": {},
   "outputs": [],
   "source": [
    "popular_merged_data = popular_merged_data.merge(book_info_merged_data,on='Book-Title').drop_duplicates('Book-Title')[['Book-Title','Book-Author','Image-URL-M','num_user_ratings_merged_data','avg_rating']]"
   ]
  },
  {
   "cell_type": "code",
   "execution_count": null,
   "id": "e4e0905e",
   "metadata": {},
   "outputs": [],
   "source": [
    "popular_merged_data['Image-URL-M'][0]"
   ]
  },
  {
   "cell_type": "markdown",
   "id": "2bd6235b",
   "metadata": {},
   "source": [
    "## Collaborative Filtering Based Recommender System"
   ]
  },
  {
   "cell_type": "code",
   "execution_count": null,
   "id": "699691c0",
   "metadata": {},
   "outputs": [],
   "source": [
    "x = user_ratings_merged_data_with_name.groupby('User-ID').count()['Book-Rating'] > 200\n",
    "padhe_likhe_user_profiles_merged_data = x[x].index"
   ]
  },
  {
   "cell_type": "code",
   "execution_count": null,
   "id": "1f602117",
   "metadata": {},
   "outputs": [],
   "source": [
    "filtered_rating = user_ratings_merged_data_with_name[user_ratings_merged_data_with_name['User-ID'].isin(padhe_likhe_user_profiles_merged_data)]"
   ]
  },
  {
   "cell_type": "code",
   "execution_count": null,
   "id": "a293343f",
   "metadata": {},
   "outputs": [],
   "source": [
    "y = filtered_rating.groupby('Book-Title').count()['Book-Rating']>=50\n",
    "famous_book_info_merged_data = y[y].index"
   ]
  },
  {
   "cell_type": "code",
   "execution_count": null,
   "id": "26ac9ae3",
   "metadata": {},
   "outputs": [],
   "source": [
    "final_user_ratings_merged_data = filtered_rating[filtered_rating['Book-Title'].isin(famous_book_info_merged_data)]"
   ]
  },
  {
   "cell_type": "code",
   "execution_count": null,
   "id": "e2b24aed",
   "metadata": {},
   "outputs": [],
   "source": [
    "pt = final_user_ratings_merged_data.pivot_table(index='Book-Title',columns='User-ID',values='Book-Rating')"
   ]
  },
  {
   "cell_type": "code",
   "execution_count": null,
   "id": "695c4d7f",
   "metadata": {},
   "outputs": [],
   "source": [
    "pt.fillna(0,inplace=True)"
   ]
  },
  {
   "cell_type": "code",
   "execution_count": null,
   "id": "40fbcf00",
   "metadata": {},
   "outputs": [],
   "source": [
    "pt"
   ]
  },
  {
   "cell_type": "code",
   "execution_count": null,
   "id": "28c6a299",
   "metadata": {},
   "outputs": [],
   "source": [
    "from sklearn.metrics.pairwise import cosine_similarity"
   ]
  },
  {
   "cell_type": "code",
   "execution_count": null,
   "id": "ff96edcf",
   "metadata": {},
   "outputs": [],
   "source": [
    "similarity_scores = cosine_similarity(pt)"
   ]
  },
  {
   "cell_type": "code",
   "execution_count": null,
   "id": "840982b9",
   "metadata": {},
   "outputs": [],
   "source": [
    "similarity_scores.shape"
   ]
  },
  {
   "cell_type": "code",
   "execution_count": null,
   "id": "72028e22",
   "metadata": {},
   "outputs": [],
   "source": [
    "def recommend(book_name):\n",
    "    ## index fetch\n",
    "    index = np.where(pt.index==book_name)[0][0]\n",
    "    similar_items = sorted(list(enumerate(similarity_scores[index])),key=lambda x:x[1],reverse=True)[1:5]\n",
    "    \n",
    "    data = []\n",
    "    for i in similar_items:\n",
    "        item = []\n",
    "        temp_merged_data = book_info_merged_data[book_info_merged_data['Book-Title'] == pt.index[i[0]]]\n",
    "        item.extend(list(temp_merged_data.drop_duplicates('Book-Title')['Book-Title'].values))\n",
    "        item.extend(list(temp_merged_data.drop_duplicates('Book-Title')['Book-Author'].values))\n",
    "        item.extend(list(temp_merged_data.drop_duplicates('Book-Title')['Image-URL-M'].values))\n",
    "        \n",
    "        data.append(item)\n",
    "    \n",
    "    return data"
   ]
  },
  {
   "cell_type": "code",
   "execution_count": null,
   "id": "4a20fdd8",
   "metadata": {},
   "outputs": [],
   "source": [
    "recommend('1984')"
   ]
  },
  {
   "cell_type": "code",
   "execution_count": null,
   "id": "e9cac18b",
   "metadata": {},
   "outputs": [],
   "source": [
    "pt.index[545]"
   ]
  },
  {
   "cell_type": "code",
   "execution_count": null,
   "id": "fe196678",
   "metadata": {},
   "outputs": [],
   "source": [
    "import pickle\n",
    "pickle.dump(popular_merged_data,open('popular.pkl','wb'))"
   ]
  },
  {
   "cell_type": "code",
   "execution_count": null,
   "id": "ee395678",
   "metadata": {},
   "outputs": [],
   "source": [
    "book_info_merged_data.drop_duplicates('Book-Title')"
   ]
  },
  {
   "cell_type": "code",
   "execution_count": null,
   "id": "0eaac186",
   "metadata": {},
   "outputs": [],
   "source": [
    "pickle.dump(pt,open('pt.pkl','wb'))\n",
    "pickle.dump(book_info_merged_data,open('book_info_merged_data.pkl','wb'))\n",
    "pickle.dump(similarity_scores,open('similarity_scores.pkl','wb'))"
   ]
  },
  {
   "cell_type": "code",
   "execution_count": null,
   "id": "4be9be7f",
   "metadata": {},
   "outputs": [],
   "source": []
  },
  {
   "cell_type": "markdown",
   "id": "cec3fbeb",
   "metadata": {},
   "source": [
    "## 🔢 Part 2: Matrix Factorization using SVD\n",
    "Here we apply matrix factorization with TruncatedSVD to extract latent features."
   ]
  },
  {
   "cell_type": "code",
   "execution_count": null,
   "id": "2de89a30",
   "metadata": {},
   "outputs": [],
   "source": [
    "# Import SVD\n",
    "from sklearn.decomposition import TruncatedSVD\n",
    "\n",
    "# Reduce dimensions to find latent features\n",
    "svd_model = TruncatedSVD(n_components=20, random_state=42)\n",
    "latent_matrix = svd_model.fit_transform(user_book_matrix.T)\n",
    "\n",
    "# Create a DataFrame of latent features\n",
    "latent_df = pd.DataFrame(latent_matrix, index=user_book_matrix.columns)\n",
    "latent_similarity = cosine_similarity(latent_df)\n",
    "latent_similarity_df = pd.DataFrame(latent_similarity, index=latent_df.index, columns=latent_df.index)"
   ]
  },
  {
   "cell_type": "markdown",
   "id": "07424c3b",
   "metadata": {},
   "source": [
    "### 🔍 Define SVD-based Recommendation Function"
   ]
  },
  {
   "cell_type": "code",
   "execution_count": null,
   "id": "575e8fe1",
   "metadata": {},
   "outputs": [],
   "source": [
    "def recommend_svd(book_name, top_n=5):\n",
    "    if book_name not in latent_similarity_df:\n",
    "        return \"Book not found in latent feature space.\"\n",
    "    similar = latent_similarity_df[book_name].sort_values(ascending=False)[1:top_n+1]\n",
    "    return similar"
   ]
  },
  {
   "cell_type": "markdown",
   "id": "96f40751",
   "metadata": {},
   "source": [
    "### 📊 Evaluate Example Recommendation from SVD Model"
   ]
  },
  {
   "cell_type": "code",
   "execution_count": null,
   "id": "f0e2fb09",
   "metadata": {},
   "outputs": [],
   "source": [
    "test_book = \"Harry Potter and the Sorcerer's Stone\"\n",
    "print(f\"Recommendations using SVD for '{test_book}':\")\n",
    "print(recommend_svd(test_book))"
   ]
  }
 ],
 "metadata": {},
 "nbformat": 4,
 "nbformat_minor": 5
}
