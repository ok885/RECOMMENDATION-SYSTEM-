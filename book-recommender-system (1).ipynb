{
 "cells": [
  {
   "cell_type": "markdown",
   "id": "bd3e4dd6",
   "metadata": {},
   "source": [
    "# 📚 Book Recommendation System\n",
    "This notebook builds a Book Recommendation System using collaborative filtering based on user ratings."
   ]
  },
  {
   "cell_type": "code",
   "execution_count": null,
   "id": "68defe6b",
   "metadata": {},
   "outputs": [],
   "source": [
    "# Import libraries\n",
    "import pandas as pd\n",
    "import numpy as np\n",
    "from sklearn.metrics.pairwise import cosine_similarity"
   ]
  },
  {
   "cell_type": "code",
   "execution_count": null,
   "id": "e218811c",
   "metadata": {},
   "outputs": [],
   "source": [
    "# Load datasets\n",
    "books = pd.read_csv('Books.csv')\n",
    "users = pd.read_csv('Users.csv')\n",
    "ratings = pd.read_csv('Ratings.csv')"
   ]
  },
  {
   "cell_type": "code",
   "execution_count": null,
   "id": "63928ac8",
   "metadata": {},
   "outputs": [],
   "source": [
    "# Merge datasets\n",
    "data = ratings.merge(books, on='Book-ID').merge(users, on='User-ID')\n",
    "data = data.dropna()"
   ]
  },
  {
   "cell_type": "code",
   "execution_count": null,
   "id": "d219418a",
   "metadata": {},
   "outputs": [],
   "source": [
    "# Filter popular books\n",
    "popular_books = data.groupby('Book-Title').filter(lambda x: len(x) >= 50)"
   ]
  },
  {
   "cell_type": "code",
   "execution_count": null,
   "id": "f4ba952b",
   "metadata": {},
   "outputs": [],
   "source": [
    "# Create pivot table\n",
    "user_book_matrix = popular_books.pivot_table(index='User-ID', columns='Book-Title', values='Book-Rating')\n",
    "user_book_matrix.fillna(0, inplace=True)"
   ]
  },
  {
   "cell_type": "code",
   "execution_count": null,
   "id": "8c209e1a",
   "metadata": {},
   "outputs": [],
   "source": [
    "# Compute cosine similarity\n",
    "similarity = cosine_similarity(user_book_matrix.T)\n",
    "similarity_df = pd.DataFrame(similarity, index=user_book_matrix.columns, columns=user_book_matrix.columns)"
   ]
  },
  {
   "cell_type": "code",
   "execution_count": null,
   "id": "305bd8e5",
   "metadata": {},
   "outputs": [],
   "source": [
    "# Define recommendation function\n",
    "def recommend(book_title, top_n=5):\n",
    "    if book_title not in similarity_df:\n",
    "        return 'Book not found in database.'\n",
    "    similar_books = similarity_df[book_title].sort_values(ascending=False)[1:top_n+1]\n",
    "    return similar_books"
   ]
  },
  {
   "cell_type": "code",
   "execution_count": null,
   "id": "bd9495e2",
   "metadata": {},
   "outputs": [],
   "source": [
    "# Example output\n",
    "book_name = \"Harry Potter and the Sorcerer's Stone\"\n",
    "print(f\"If you liked '{book_name}', you might also enjoy:\")\n",
    "print(recommend(book_name))"
   ]
  }
 ],
 "metadata": {},
 "nbformat": 4,
 "nbformat_minor": 5
}