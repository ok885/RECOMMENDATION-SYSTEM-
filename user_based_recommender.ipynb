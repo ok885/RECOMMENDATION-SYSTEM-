{
 "cells": [
  {
   "cell_type": "markdown",
   "id": "71285499",
   "metadata": {},
   "source": [
    "# Book Recommendation System (User-Based Collaborative Filtering)"
   ]
  },
  {
   "cell_type": "code",
   "execution_count": null,
   "id": "d7155beb",
   "metadata": {},
   "outputs": [],
   "source": [
    "import pandas as pd\n",
    "import numpy as np\n",
    "from sklearn.metrics.pairwise import cosine_similarity\n",
    "import pickle"
   ]
  },
  {
   "cell_type": "code",
   "execution_count": null,
   "id": "be0c4fdd",
   "metadata": {},
   "outputs": [],
   "source": [
    "# Load dataset\n",
    "books = pd.read_csv('books.csv')\n",
    "ratings = pd.read_csv('ratings.csv')\n",
    "users = pd.read_csv('users.csv')"
   ]
  },
  {
   "cell_type": "code",
   "execution_count": null,
   "id": "0f37ac6d",
   "metadata": {},
   "outputs": [],
   "source": [
    "# Rename columns for clarity\n",
    "books.rename(columns={'Book-Title': 'Title', 'Book-Author': 'Author', 'Image-URL-M': 'Image'}, inplace=True)\n",
    "ratings.rename(columns={'Book-Rating': 'Rating'}, inplace=True)"
   ]
  },
  {
   "cell_type": "code",
   "execution_count": null,
   "id": "1387624f",
   "metadata": {},
   "outputs": [],
   "source": [
    "# Filter users with more than 50 ratings\n",
    "ratings = ratings[ratings['Rating'] > 0]\n",
    "filtered_users = ratings['User-ID'].value_counts() > 50\n",
    "ratings = ratings[ratings['User-ID'].isin(filtered_users[filtered_users].index)]"
   ]
  },
  {
   "cell_type": "code",
   "execution_count": null,
   "id": "26b3d010",
   "metadata": {},
   "outputs": [],
   "source": [
    "# Merge to get book info\n",
    "merged = ratings.merge(books, on='ISBN')"
   ]
  },
  {
   "cell_type": "code",
   "execution_count": null,
   "id": "4e152767",
   "metadata": {},
   "outputs": [],
   "source": [
    "# Create user-book matrix\n",
    "user_book_matrix = merged.pivot_table(index='User-ID', columns='Title', values='Rating').fillna(0)"
   ]
  },
  {
   "cell_type": "code",
   "execution_count": null,
   "id": "5480f405",
   "metadata": {},
   "outputs": [],
   "source": [
    "# Compute user-user similarity\n",
    "user_similarity = cosine_similarity(user_book_matrix)\n",
    "np.fill_diagonal(user_similarity, 0)"
   ]
  },
  {
   "cell_type": "code",
   "execution_count": null,
   "id": "45825da3",
   "metadata": {},
   "outputs": [],
   "source": [
    "# Get top popular books for home page\n",
    "top_books = merged.groupby('Title').agg({'Rating': ['count', 'mean']})\n",
    "top_books.columns = ['RatingCount', 'AverageRating']\n",
    "top_books = top_books.sort_values('RatingCount', ascending=False).head(50)\n",
    "top_books = top_books.merge(books.drop_duplicates('Title')[['Title', 'Author', 'Image']], on='Title', how='left')"
   ]
  },
  {
   "cell_type": "code",
   "execution_count": null,
   "id": "21135fe4",
   "metadata": {},
   "outputs": [],
   "source": [
    "# Save required files\n",
    "pickle.dump(user_book_matrix, open('user_book_matrix.pkl', 'wb'))\n",
    "pickle.dump(user_similarity, open('user_similarity.pkl', 'wb'))\n",
    "pickle.dump(top_books, open('top_books.pkl', 'wb'))\n",
    "pickle.dump(books, open('book_details.pkl', 'wb'))\n",
    "\n",
    "print(\"✅ All files generated. You can now run the Flask app.\")"
   ]
  }
 ],
 "metadata": {},
 "nbformat": 4,
 "nbformat_minor": 5
}
